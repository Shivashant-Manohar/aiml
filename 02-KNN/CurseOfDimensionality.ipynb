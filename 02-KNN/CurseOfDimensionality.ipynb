{
 "cells": [
  {
   "cell_type": "code",
   "execution_count": 4,
   "id": "ac93f70b",
   "metadata": {},
   "outputs": [
    {
     "name": "stderr",
     "output_type": "stream",
     "text": [
      "Curse Of Dimensionality: 100%|██████████| 100/100 [00:17<00:00,  5.82it/s]"
     ]
    },
    {
     "name": "stdout",
     "output_type": "stream",
     "text": [
      "\n",
      "Ratio for dimension 1: 0.0000\n",
      "Ratio for dimension 100: 0.7747\n"
     ]
    },
    {
     "name": "stderr",
     "output_type": "stream",
     "text": [
      "\n"
     ]
    }
   ],
   "source": [
    "import random\n",
    "import math\n",
    "from typing import List, TypeAlias\n",
    "import tqdm\n",
    "\n",
    "# A TypeAlias for clarity in type hints\n",
    "Vector: TypeAlias = List[float]\n",
    "\n",
    "def distance(v1: Vector, v2: Vector) -> float:\n",
    "    \"\"\"Computes the Euclidean distance between two vectors.\"\"\"\n",
    "    # Ensure vectors have the same dimension\n",
    "    assert len(v1) == len(v2)\n",
    "    \n",
    "    # Calculate the sum of squared differences\n",
    "    squared_diffs = sum((x - y) ** 2 for x, y in zip(v1, v2))\n",
    "    \n",
    "    return math.sqrt(squared_diffs)\n",
    "\n",
    "def random_point(dim: int) -> Vector:\n",
    "    \"\"\"Generates a random point in a 'dim'-dimensional space.\"\"\"\n",
    "    return [random.random() for _ in range(dim)]\n",
    "\n",
    "def random_distances(dim: int, num_pairs: int) -> List[float]:\n",
    "    \"\"\"Generates 'num_pairs' of random points and calculates the distance between them.\"\"\"\n",
    "    return [distance(random_point(dim), random_point(dim))\n",
    "            for _ in range(num_pairs)]\n",
    "\n",
    "# --- Main execution ---\n",
    "\n",
    "# Set the range of dimensions to test\n",
    "dimensions = range(1, 101)\n",
    "\n",
    "avg_distances = []\n",
    "min_distances = []\n",
    "\n",
    "# Set a seed for reproducibility\n",
    "random.seed(0)\n",
    "\n",
    "# Loop through each dimension\n",
    "for dim in tqdm.tqdm(dimensions, desc=\"Curse Of Dimensionality\"):\n",
    "    # Generate 10,000 random distances in the current dimension\n",
    "    distances = random_distances(dim, 10000)\n",
    "    \n",
    "    # Track the average distance\n",
    "    avg_distances.append(sum(distances) / 10000)\n",
    "    \n",
    "    # Track the minimum distance\n",
    "    min_distances.append(min(distances))\n",
    "\n",
    "# Calculate the ratio of minimum distance to average distance\n",
    "min_avg_ratio = [min_dist / avg_dist\n",
    "                 for min_dist, avg_dist in zip(min_distances, avg_distances)]\n",
    "\n",
    "# You can now, for example, print the last calculated ratio\n",
    "# to see how close it is to 1 in high dimensions.\n",
    "print(f\"\\nRatio for dimension 1: {min_avg_ratio[0]:.4f}\")\n",
    "print(f\"Ratio for dimension 100: {min_avg_ratio[-1]:.4f}\")"
   ]
  },
  {
   "cell_type": "code",
   "execution_count": null,
   "id": "982e194a",
   "metadata": {},
   "outputs": [],
   "source": []
  }
 ],
 "metadata": {
  "kernelspec": {
   "display_name": "Python 3",
   "language": "python",
   "name": "python3"
  },
  "language_info": {
   "codemirror_mode": {
    "name": "ipython",
    "version": 3
   },
   "file_extension": ".py",
   "mimetype": "text/x-python",
   "name": "python",
   "nbconvert_exporter": "python",
   "pygments_lexer": "ipython3",
   "version": "3.13.5"
  }
 },
 "nbformat": 4,
 "nbformat_minor": 5
}
