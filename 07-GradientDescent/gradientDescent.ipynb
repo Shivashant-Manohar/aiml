{
 "cells": [
  {
   "cell_type": "code",
   "execution_count": 1,
   "id": "0d8bcd28",
   "metadata": {},
   "outputs": [],
   "source": [
    "import sys\n",
    "sys.path.append(\"../data-science-from-scratch\")"
   ]
  },
  {
   "cell_type": "code",
   "execution_count": null,
   "id": "e73d6abe",
   "metadata": {},
   "outputs": [],
   "source": [
    "from scratch.linear_algebra import Vector, dot\n",
    "\n",
    "def sum_of_squares(v: Vector) -> float:\n",
    "    \"\"\"Computes the sum of squared elements in v\"\"\"\n",
    "    return dot(v,v)\n",
    "\n",
    "from typing import Callable\n",
    "def difference_quotient(f: Callable[[float],float],\n",
    "                        x: float,\n",
    "                        h: float) -> float:\n",
    "    return (f(x+h)-f(x))/h\n",
    "\n"
   ]
  },
  {
   "cell_type": "code",
   "execution_count": null,
   "id": "0264d0a4",
   "metadata": {},
   "outputs": [],
   "source": []
  }
 ],
 "metadata": {
  "kernelspec": {
   "display_name": "Python 3",
   "language": "python",
   "name": "python3"
  },
  "language_info": {
   "codemirror_mode": {
    "name": "ipython",
    "version": 3
   },
   "file_extension": ".py",
   "mimetype": "text/x-python",
   "name": "python",
   "nbconvert_exporter": "python",
   "pygments_lexer": "ipython3",
   "version": "3.13.5"
  }
 },
 "nbformat": 4,
 "nbformat_minor": 5
}
